{
 "cells": [
  {
   "cell_type": "code",
   "execution_count": 1,
   "metadata": {},
   "outputs": [],
   "source": [
    "import numpy as np\n",
    "import pandas as pd"
   ]
  },
  {
   "cell_type": "code",
   "execution_count": 2,
   "metadata": {},
   "outputs": [],
   "source": [
    "df = pd.read_csv('sentiment_score.csv')"
   ]
  },
  {
   "cell_type": "code",
   "execution_count": 3,
   "metadata": {},
   "outputs": [
    {
     "data": {
      "text/plain": [
       "Index(['Unnamed: 0', 'quarter_index', 'sentiment_score', 'number_posts',\n",
       "       'normed_value', 'sales'],\n",
       "      dtype='object')"
      ]
     },
     "execution_count": 3,
     "metadata": {},
     "output_type": "execute_result"
    }
   ],
   "source": [
    "df.columns"
   ]
  },
  {
   "cell_type": "code",
   "execution_count": 4,
   "metadata": {},
   "outputs": [],
   "source": [
    "y_val = np.array(np.log(df.loc[:,'sales']).diff().iloc[2:38,])"
   ]
  },
  {
   "cell_type": "code",
   "execution_count": 5,
   "metadata": {},
   "outputs": [],
   "source": [
    "x_val_lag = np.reshape(np.array(np.log(df.loc[:,'sales']).diff().iloc[1:37,]), (-1,1))\n",
    "x_sent_lag = np.reshape(np.array(df.loc[1:36,'normed_value']), (-1,1))\n",
    "x_npost_lag = np.reshape(np.array(df.loc[1:36,'number_posts']), (-1,1))"
   ]
  },
  {
   "cell_type": "code",
   "execution_count": 6,
   "metadata": {},
   "outputs": [],
   "source": [
    "final_df_val = np.concatenate((x_val_lag, x_sent_lag, x_npost_lag), axis = 1)"
   ]
  },
  {
   "cell_type": "code",
   "execution_count": 10,
   "metadata": {},
   "outputs": [
    {
     "name": "stdout",
     "output_type": "stream",
     "text": [
      "0\n",
      "0.11333725156240615\n",
      "10\n",
      "0.20364168714527164\n"
     ]
    }
   ],
   "source": [
    "from sklearn.gaussian_process import GaussianProcessRegressor\n",
    "import sklearn.gaussian_process as gp\n",
    "from sklearn import preprocessing\n",
    "\n",
    "predict_result = list()\n",
    "real_result = list()\n",
    "\n",
    "num_train = 15\n",
    "num_var = final_df_val.shape[1]\n",
    "\n",
    "kernel1 = gp.kernels.Matern(nu=2.5)\n",
    "kernel2 = gp.kernels.RationalQuadratic()\n",
    "kernel3 = gp.kernels.RBF()\n",
    "kernel4 = gp.kernels.WhiteKernel()\n",
    "\n",
    "for i in range(len(y_val) - num_train - 1):\n",
    "    temp_df = final_df_val[0:num_train + i + 1,]\n",
    "    temp_df = preprocessing.scale(temp_df)\n",
    "    \n",
    "    each_train_X = np.reshape(temp_df[0:i+num_train,], (-1,num_var))\n",
    "    each_train_Y = y_val[0+1:i+num_train+1]\n",
    "    each_train_Y[each_train_Y == 0] = 1\n",
    "    \n",
    "    #lmnn.fit(each_train_X, each_train_Y)\n",
    "    #each_train_X = lmnn.transform(each_train_X)\n",
    "    \n",
    "    gpr_test = GaussianProcessRegressor(n_restarts_optimizer = 10,kernel = kernel1 + kernel2 + kernel3 + kernel4)\n",
    "    gpr_test.fit(each_train_X, each_train_Y)\n",
    "    \n",
    "    #sam_weight = weight_generator(each_train_X.shape[0])\n",
    "    \n",
    "    each_test_X = np.reshape(temp_df[num_train + i,], (-1,num_var))\n",
    "    each_test_Y = y_val[num_train + i + 1]\n",
    "    \n",
    "    #each_test_X = lmnn.transform(each_test_X)\n",
    "    \n",
    "    gpr_test.predict(each_test_X)\n",
    "    \n",
    "    predict_result.append(gpr_test.predict(each_test_X)[0])\n",
    "    if isinstance(each_test_Y, list):\n",
    "        real_result.append(each_test_Y[0])\n",
    "    else:\n",
    "        real_result.append(each_test_Y)\n",
    "    \n",
    "    if i % 10 == 0:\n",
    "        print(i)\n",
    "        print(np.sqrt(np.mean(np.square(np.array(predict_result) - np.array(real_result)))))"
   ]
  },
  {
   "cell_type": "code",
   "execution_count": 11,
   "metadata": {},
   "outputs": [
    {
     "data": {
      "text/plain": [
       "0.24328899242565846"
      ]
     },
     "execution_count": 11,
     "metadata": {},
     "output_type": "execute_result"
    }
   ],
   "source": [
    "np.sqrt(np.mean(np.square(np.array(predict_result) - np.array(real_result))))"
   ]
  },
  {
   "cell_type": "code",
   "execution_count": 16,
   "metadata": {},
   "outputs": [
    {
     "data": {
      "text/plain": [
       "0.9999999789650864"
      ]
     },
     "execution_count": 16,
     "metadata": {},
     "output_type": "execute_result"
    }
   ],
   "source": [
    "gpr_test.score(each_train_X, each_train_Y)"
   ]
  },
  {
   "cell_type": "code",
   "execution_count": 17,
   "metadata": {},
   "outputs": [
    {
     "data": {
      "text/plain": [
       "{'alpha': 1e-10,\n",
       " 'copy_X_train': True,\n",
       " 'kernel__k1': Matern(length_scale=1, nu=2.5) + RationalQuadratic(alpha=1, length_scale=1) + RBF(length_scale=1),\n",
       " 'kernel__k2': WhiteKernel(noise_level=1),\n",
       " 'kernel__k1__k1': Matern(length_scale=1, nu=2.5) + RationalQuadratic(alpha=1, length_scale=1),\n",
       " 'kernel__k1__k2': RBF(length_scale=1),\n",
       " 'kernel__k1__k1__k1': Matern(length_scale=1, nu=2.5),\n",
       " 'kernel__k1__k1__k2': RationalQuadratic(alpha=1, length_scale=1),\n",
       " 'kernel__k1__k1__k1__length_scale': 1.0,\n",
       " 'kernel__k1__k1__k1__length_scale_bounds': (1e-05, 100000.0),\n",
       " 'kernel__k1__k1__k1__nu': 2.5,\n",
       " 'kernel__k1__k1__k2__length_scale': 1.0,\n",
       " 'kernel__k1__k1__k2__alpha': 1.0,\n",
       " 'kernel__k1__k1__k2__length_scale_bounds': (1e-05, 100000.0),\n",
       " 'kernel__k1__k1__k2__alpha_bounds': (1e-05, 100000.0),\n",
       " 'kernel__k1__k2__length_scale': 1.0,\n",
       " 'kernel__k1__k2__length_scale_bounds': (1e-05, 100000.0),\n",
       " 'kernel__k2__noise_level': 1.0,\n",
       " 'kernel__k2__noise_level_bounds': (1e-05, 100000.0),\n",
       " 'kernel': Matern(length_scale=1, nu=2.5) + RationalQuadratic(alpha=1, length_scale=1) + RBF(length_scale=1) + WhiteKernel(noise_level=1),\n",
       " 'n_restarts_optimizer': 10,\n",
       " 'normalize_y': False,\n",
       " 'optimizer': 'fmin_l_bfgs_b',\n",
       " 'random_state': None}"
      ]
     },
     "execution_count": 17,
     "metadata": {},
     "output_type": "execute_result"
    }
   ],
   "source": [
    "gpr_test.get_params()"
   ]
  }
 ],
 "metadata": {
  "kernelspec": {
   "display_name": "Python 3",
   "language": "python",
   "name": "python3"
  },
  "language_info": {
   "codemirror_mode": {
    "name": "ipython",
    "version": 3
   },
   "file_extension": ".py",
   "mimetype": "text/x-python",
   "name": "python",
   "nbconvert_exporter": "python",
   "pygments_lexer": "ipython3",
   "version": "3.7.3"
  }
 },
 "nbformat": 4,
 "nbformat_minor": 2
}
